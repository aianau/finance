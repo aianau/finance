{
 "cells": [
  {
   "cell_type": "markdown",
   "metadata": {},
   "source": [
    "### graph on montly price of  1-3 Month U.S. Treasury Bills (T-Bills) and the interest rates in U.S."
   ]
  },
  {
   "cell_type": "code",
   "execution_count": 1,
   "metadata": {},
   "outputs": [
    {
     "name": "stderr",
     "output_type": "stream",
     "text": [
      "C:\\Users\\aianau\\AppData\\Local\\Temp\\ipykernel_3692\\1824493872.py:25: FutureWarning: 'M' is deprecated and will be removed in a future version, please use 'ME' instead.\n",
      "  df = df.resample(\"M\", on=\"Date\").mean().reset_index()  # Ensure monthly data\n"
     ]
    },
    {
     "data": {
      "application/vnd.plotly.v1+json": {
       "config": {
        "plotlyServerURL": "https://plot.ly"
       },
       "data": [
        {
         "hovertemplate": "Rate Type=3M T-Bill Yield<br>Date=%{x}<br>Interest Rate (%)=%{y}<extra></extra>",
         "legendgroup": "3M T-Bill Yield",
         "line": {
          "color": "#636efa",
          "dash": "solid"
         },
         "marker": {
          "symbol": "circle"
         },
         "mode": "lines",
         "name": "3M T-Bill Yield",
         "orientation": "v",
         "showlegend": true,
         "type": "scatter",
         "x": [
          "2019-03-31T00:00:00.000000000",
          "2019-04-30T00:00:00.000000000",
          "2019-05-31T00:00:00.000000000",
          "2019-06-30T00:00:00.000000000",
          "2019-07-31T00:00:00.000000000",
          "2019-08-31T00:00:00.000000000",
          "2019-09-30T00:00:00.000000000",
          "2019-10-31T00:00:00.000000000",
          "2019-11-30T00:00:00.000000000",
          "2019-12-31T00:00:00.000000000",
          "2020-01-31T00:00:00.000000000",
          "2020-02-29T00:00:00.000000000",
          "2020-03-31T00:00:00.000000000",
          "2020-04-30T00:00:00.000000000",
          "2020-05-31T00:00:00.000000000",
          "2020-06-30T00:00:00.000000000",
          "2020-07-31T00:00:00.000000000",
          "2020-08-31T00:00:00.000000000",
          "2020-09-30T00:00:00.000000000",
          "2020-10-31T00:00:00.000000000",
          "2020-11-30T00:00:00.000000000",
          "2020-12-31T00:00:00.000000000",
          "2021-01-31T00:00:00.000000000",
          "2021-02-28T00:00:00.000000000",
          "2021-03-31T00:00:00.000000000",
          "2021-04-30T00:00:00.000000000",
          "2021-05-31T00:00:00.000000000",
          "2021-06-30T00:00:00.000000000",
          "2021-07-31T00:00:00.000000000",
          "2021-08-31T00:00:00.000000000",
          "2021-09-30T00:00:00.000000000",
          "2021-10-31T00:00:00.000000000",
          "2021-11-30T00:00:00.000000000",
          "2021-12-31T00:00:00.000000000",
          "2022-01-31T00:00:00.000000000",
          "2022-02-28T00:00:00.000000000",
          "2022-03-31T00:00:00.000000000",
          "2022-04-30T00:00:00.000000000",
          "2022-05-31T00:00:00.000000000",
          "2022-06-30T00:00:00.000000000",
          "2022-07-31T00:00:00.000000000",
          "2022-08-31T00:00:00.000000000",
          "2022-09-30T00:00:00.000000000",
          "2022-10-31T00:00:00.000000000",
          "2022-11-30T00:00:00.000000000",
          "2022-12-31T00:00:00.000000000",
          "2023-01-31T00:00:00.000000000",
          "2023-02-28T00:00:00.000000000",
          "2023-03-31T00:00:00.000000000",
          "2023-04-30T00:00:00.000000000",
          "2023-05-31T00:00:00.000000000",
          "2023-06-30T00:00:00.000000000",
          "2023-07-31T00:00:00.000000000",
          "2023-08-31T00:00:00.000000000",
          "2023-09-30T00:00:00.000000000",
          "2023-10-31T00:00:00.000000000",
          "2023-11-30T00:00:00.000000000",
          "2023-12-31T00:00:00.000000000",
          "2024-01-31T00:00:00.000000000",
          "2024-02-29T00:00:00.000000000",
          "2024-03-31T00:00:00.000000000"
         ],
         "xaxis": "x",
         "y": {
          "bdata": "MzMzMzMzA0AK16NwPQoDQM3MzMzMzAJAXI/C9ShcAUDNzMzMzMwAQDMzMzMzM/8/PQrXo3A9/j9mZmZmZmb6P6RwPQrXo/g/pHA9Ctej+D9SuB6F61H4P1K4HoXrUfg/j8L1KFyP0j/sUbgehevBP6RwPQrXo8A/exSuR+F6xD+kcD0K16PAP5qZmZmZmbk/KVyPwvUovD+amZmZmZm5PwrXo3A9Crc/CtejcD0Ktz97FK5H4Xq0P3sUrkfheqQ/uB6F61G4nj97FK5H4XqUP3sUrkfhepQ/exSuR+F6pD+amZmZmZmpP5qZmZmZmak/exSuR+F6pD+amZmZmZmpP5qZmZmZmak/uB6F61G4rj8zMzMzMzPDPx+F61G4HtU/KVyPwvUo3D9SuB6F61HoP1yPwvUoXO8/16NwPQrX9z/Xo3A9CtcBQArXo3A9CgVACtejcD0KCUDD9Shcj8INQJqZmZmZmRBAAAAAAAAAEUApXI/C9SgSQJqZmZmZmRJAw/UoXI/CEkCuR+F6FK4TQI/C9ShcjxRApHA9CtejFEAAAAAAAAAVQDMzMzMzMxVASOF6FK5HFUBcj8L1KFwVQBSuR+F6FBVA9ihcj8L1FEDhehSuR+EUQPYoXI/C9RRA9ihcj8L1FEA=",
          "dtype": "f8"
         },
         "yaxis": "y"
        },
        {
         "hovertemplate": "Rate Type=Fed Funds Rate<br>Date=%{x}<br>Interest Rate (%)=%{y}<extra></extra>",
         "legendgroup": "Fed Funds Rate",
         "line": {
          "color": "#EF553B",
          "dash": "solid"
         },
         "marker": {
          "symbol": "circle"
         },
         "mode": "lines",
         "name": "Fed Funds Rate",
         "orientation": "v",
         "showlegend": true,
         "type": "scatter",
         "x": [
          "2019-03-31T00:00:00.000000000",
          "2019-04-30T00:00:00.000000000",
          "2019-05-31T00:00:00.000000000",
          "2019-06-30T00:00:00.000000000",
          "2019-07-31T00:00:00.000000000",
          "2019-08-31T00:00:00.000000000",
          "2019-09-30T00:00:00.000000000",
          "2019-10-31T00:00:00.000000000",
          "2019-11-30T00:00:00.000000000",
          "2019-12-31T00:00:00.000000000",
          "2020-01-31T00:00:00.000000000",
          "2020-02-29T00:00:00.000000000",
          "2020-03-31T00:00:00.000000000",
          "2020-04-30T00:00:00.000000000",
          "2020-05-31T00:00:00.000000000",
          "2020-06-30T00:00:00.000000000",
          "2020-07-31T00:00:00.000000000",
          "2020-08-31T00:00:00.000000000",
          "2020-09-30T00:00:00.000000000",
          "2020-10-31T00:00:00.000000000",
          "2020-11-30T00:00:00.000000000",
          "2020-12-31T00:00:00.000000000",
          "2021-01-31T00:00:00.000000000",
          "2021-02-28T00:00:00.000000000",
          "2021-03-31T00:00:00.000000000",
          "2021-04-30T00:00:00.000000000",
          "2021-05-31T00:00:00.000000000",
          "2021-06-30T00:00:00.000000000",
          "2021-07-31T00:00:00.000000000",
          "2021-08-31T00:00:00.000000000",
          "2021-09-30T00:00:00.000000000",
          "2021-10-31T00:00:00.000000000",
          "2021-11-30T00:00:00.000000000",
          "2021-12-31T00:00:00.000000000",
          "2022-01-31T00:00:00.000000000",
          "2022-02-28T00:00:00.000000000",
          "2022-03-31T00:00:00.000000000",
          "2022-04-30T00:00:00.000000000",
          "2022-05-31T00:00:00.000000000",
          "2022-06-30T00:00:00.000000000",
          "2022-07-31T00:00:00.000000000",
          "2022-08-31T00:00:00.000000000",
          "2022-09-30T00:00:00.000000000",
          "2022-10-31T00:00:00.000000000",
          "2022-11-30T00:00:00.000000000",
          "2022-12-31T00:00:00.000000000",
          "2023-01-31T00:00:00.000000000",
          "2023-02-28T00:00:00.000000000",
          "2023-03-31T00:00:00.000000000",
          "2023-04-30T00:00:00.000000000",
          "2023-05-31T00:00:00.000000000",
          "2023-06-30T00:00:00.000000000",
          "2023-07-31T00:00:00.000000000",
          "2023-08-31T00:00:00.000000000",
          "2023-09-30T00:00:00.000000000",
          "2023-10-31T00:00:00.000000000",
          "2023-11-30T00:00:00.000000000",
          "2023-12-31T00:00:00.000000000",
          "2024-01-31T00:00:00.000000000",
          "2024-02-29T00:00:00.000000000",
          "2024-03-31T00:00:00.000000000"
         ],
         "xaxis": "x",
         "y": {
          "bdata": "SOF6FK5HA0Bcj8L1KFwDQB+F61G4HgNACtejcD0KA0AzMzMzMzMDQArXo3A9CgFAUrgehetRAEBI4XoUrkf9P83MzMzMzPg/zczMzMzM+D/NzMzMzMz4P0jhehSuR/k/zczMzMzM5D+amZmZmZmpP5qZmZmZmak/exSuR+F6tD8K16NwPQq3P5qZmZmZmbk/CtejcD0Ktz8K16NwPQq3PwrXo3A9Crc/CtejcD0Ktz8K16NwPQq3P3sUrkfherQ/7FG4HoXrsT/sUbgeheuxP7gehetRuK4/exSuR+F6tD+amZmZmZm5PwrXo3A9Crc/exSuR+F6tD97FK5H4Xq0P3sUrkfherQ/exSuR+F6tD97FK5H4Xq0P3sUrkfherQ/mpmZmZmZyT8fhetRuB7VP6RwPQrXo+g/XI/C9Shc8z/hehSuR+H6P6RwPQrXowJAexSuR+F6BECkcD0K16MIQD0K16NwPQ5AZmZmZmZmEEBSuB6F61ERQEjhehSuRxJAmpmZmZmZEkBSuB6F61ETQD0K16NwPRRAUrgehetRFEB7FK5H4XoUQFK4HoXrURVAUrgehetRFUBSuB6F61EVQFK4HoXrURVAUrgehetRFUBSuB6F61EVQFK4HoXrURVAUrgehetRFUA=",
          "dtype": "f8"
         },
         "yaxis": "y"
        }
       ],
       "layout": {
        "legend": {
         "title": {
          "text": "Rate Type"
         },
         "tracegroupgap": 0
        },
        "template": {
         "data": {
          "bar": [
           {
            "error_x": {
             "color": "#f2f5fa"
            },
            "error_y": {
             "color": "#f2f5fa"
            },
            "marker": {
             "line": {
              "color": "rgb(17,17,17)",
              "width": 0.5
             },
             "pattern": {
              "fillmode": "overlay",
              "size": 10,
              "solidity": 0.2
             }
            },
            "type": "bar"
           }
          ],
          "barpolar": [
           {
            "marker": {
             "line": {
              "color": "rgb(17,17,17)",
              "width": 0.5
             },
             "pattern": {
              "fillmode": "overlay",
              "size": 10,
              "solidity": 0.2
             }
            },
            "type": "barpolar"
           }
          ],
          "carpet": [
           {
            "aaxis": {
             "endlinecolor": "#A2B1C6",
             "gridcolor": "#506784",
             "linecolor": "#506784",
             "minorgridcolor": "#506784",
             "startlinecolor": "#A2B1C6"
            },
            "baxis": {
             "endlinecolor": "#A2B1C6",
             "gridcolor": "#506784",
             "linecolor": "#506784",
             "minorgridcolor": "#506784",
             "startlinecolor": "#A2B1C6"
            },
            "type": "carpet"
           }
          ],
          "choropleth": [
           {
            "colorbar": {
             "outlinewidth": 0,
             "ticks": ""
            },
            "type": "choropleth"
           }
          ],
          "contour": [
           {
            "colorbar": {
             "outlinewidth": 0,
             "ticks": ""
            },
            "colorscale": [
             [
              0,
              "#0d0887"
             ],
             [
              0.1111111111111111,
              "#46039f"
             ],
             [
              0.2222222222222222,
              "#7201a8"
             ],
             [
              0.3333333333333333,
              "#9c179e"
             ],
             [
              0.4444444444444444,
              "#bd3786"
             ],
             [
              0.5555555555555556,
              "#d8576b"
             ],
             [
              0.6666666666666666,
              "#ed7953"
             ],
             [
              0.7777777777777778,
              "#fb9f3a"
             ],
             [
              0.8888888888888888,
              "#fdca26"
             ],
             [
              1,
              "#f0f921"
             ]
            ],
            "type": "contour"
           }
          ],
          "contourcarpet": [
           {
            "colorbar": {
             "outlinewidth": 0,
             "ticks": ""
            },
            "type": "contourcarpet"
           }
          ],
          "heatmap": [
           {
            "colorbar": {
             "outlinewidth": 0,
             "ticks": ""
            },
            "colorscale": [
             [
              0,
              "#0d0887"
             ],
             [
              0.1111111111111111,
              "#46039f"
             ],
             [
              0.2222222222222222,
              "#7201a8"
             ],
             [
              0.3333333333333333,
              "#9c179e"
             ],
             [
              0.4444444444444444,
              "#bd3786"
             ],
             [
              0.5555555555555556,
              "#d8576b"
             ],
             [
              0.6666666666666666,
              "#ed7953"
             ],
             [
              0.7777777777777778,
              "#fb9f3a"
             ],
             [
              0.8888888888888888,
              "#fdca26"
             ],
             [
              1,
              "#f0f921"
             ]
            ],
            "type": "heatmap"
           }
          ],
          "histogram": [
           {
            "marker": {
             "pattern": {
              "fillmode": "overlay",
              "size": 10,
              "solidity": 0.2
             }
            },
            "type": "histogram"
           }
          ],
          "histogram2d": [
           {
            "colorbar": {
             "outlinewidth": 0,
             "ticks": ""
            },
            "colorscale": [
             [
              0,
              "#0d0887"
             ],
             [
              0.1111111111111111,
              "#46039f"
             ],
             [
              0.2222222222222222,
              "#7201a8"
             ],
             [
              0.3333333333333333,
              "#9c179e"
             ],
             [
              0.4444444444444444,
              "#bd3786"
             ],
             [
              0.5555555555555556,
              "#d8576b"
             ],
             [
              0.6666666666666666,
              "#ed7953"
             ],
             [
              0.7777777777777778,
              "#fb9f3a"
             ],
             [
              0.8888888888888888,
              "#fdca26"
             ],
             [
              1,
              "#f0f921"
             ]
            ],
            "type": "histogram2d"
           }
          ],
          "histogram2dcontour": [
           {
            "colorbar": {
             "outlinewidth": 0,
             "ticks": ""
            },
            "colorscale": [
             [
              0,
              "#0d0887"
             ],
             [
              0.1111111111111111,
              "#46039f"
             ],
             [
              0.2222222222222222,
              "#7201a8"
             ],
             [
              0.3333333333333333,
              "#9c179e"
             ],
             [
              0.4444444444444444,
              "#bd3786"
             ],
             [
              0.5555555555555556,
              "#d8576b"
             ],
             [
              0.6666666666666666,
              "#ed7953"
             ],
             [
              0.7777777777777778,
              "#fb9f3a"
             ],
             [
              0.8888888888888888,
              "#fdca26"
             ],
             [
              1,
              "#f0f921"
             ]
            ],
            "type": "histogram2dcontour"
           }
          ],
          "mesh3d": [
           {
            "colorbar": {
             "outlinewidth": 0,
             "ticks": ""
            },
            "type": "mesh3d"
           }
          ],
          "parcoords": [
           {
            "line": {
             "colorbar": {
              "outlinewidth": 0,
              "ticks": ""
             }
            },
            "type": "parcoords"
           }
          ],
          "pie": [
           {
            "automargin": true,
            "type": "pie"
           }
          ],
          "scatter": [
           {
            "marker": {
             "line": {
              "color": "#283442"
             }
            },
            "type": "scatter"
           }
          ],
          "scatter3d": [
           {
            "line": {
             "colorbar": {
              "outlinewidth": 0,
              "ticks": ""
             }
            },
            "marker": {
             "colorbar": {
              "outlinewidth": 0,
              "ticks": ""
             }
            },
            "type": "scatter3d"
           }
          ],
          "scattercarpet": [
           {
            "marker": {
             "colorbar": {
              "outlinewidth": 0,
              "ticks": ""
             }
            },
            "type": "scattercarpet"
           }
          ],
          "scattergeo": [
           {
            "marker": {
             "colorbar": {
              "outlinewidth": 0,
              "ticks": ""
             }
            },
            "type": "scattergeo"
           }
          ],
          "scattergl": [
           {
            "marker": {
             "line": {
              "color": "#283442"
             }
            },
            "type": "scattergl"
           }
          ],
          "scattermap": [
           {
            "marker": {
             "colorbar": {
              "outlinewidth": 0,
              "ticks": ""
             }
            },
            "type": "scattermap"
           }
          ],
          "scattermapbox": [
           {
            "marker": {
             "colorbar": {
              "outlinewidth": 0,
              "ticks": ""
             }
            },
            "type": "scattermapbox"
           }
          ],
          "scatterpolar": [
           {
            "marker": {
             "colorbar": {
              "outlinewidth": 0,
              "ticks": ""
             }
            },
            "type": "scatterpolar"
           }
          ],
          "scatterpolargl": [
           {
            "marker": {
             "colorbar": {
              "outlinewidth": 0,
              "ticks": ""
             }
            },
            "type": "scatterpolargl"
           }
          ],
          "scatterternary": [
           {
            "marker": {
             "colorbar": {
              "outlinewidth": 0,
              "ticks": ""
             }
            },
            "type": "scatterternary"
           }
          ],
          "surface": [
           {
            "colorbar": {
             "outlinewidth": 0,
             "ticks": ""
            },
            "colorscale": [
             [
              0,
              "#0d0887"
             ],
             [
              0.1111111111111111,
              "#46039f"
             ],
             [
              0.2222222222222222,
              "#7201a8"
             ],
             [
              0.3333333333333333,
              "#9c179e"
             ],
             [
              0.4444444444444444,
              "#bd3786"
             ],
             [
              0.5555555555555556,
              "#d8576b"
             ],
             [
              0.6666666666666666,
              "#ed7953"
             ],
             [
              0.7777777777777778,
              "#fb9f3a"
             ],
             [
              0.8888888888888888,
              "#fdca26"
             ],
             [
              1,
              "#f0f921"
             ]
            ],
            "type": "surface"
           }
          ],
          "table": [
           {
            "cells": {
             "fill": {
              "color": "#506784"
             },
             "line": {
              "color": "rgb(17,17,17)"
             }
            },
            "header": {
             "fill": {
              "color": "#2a3f5f"
             },
             "line": {
              "color": "rgb(17,17,17)"
             }
            },
            "type": "table"
           }
          ]
         },
         "layout": {
          "annotationdefaults": {
           "arrowcolor": "#f2f5fa",
           "arrowhead": 0,
           "arrowwidth": 1
          },
          "autotypenumbers": "strict",
          "coloraxis": {
           "colorbar": {
            "outlinewidth": 0,
            "ticks": ""
           }
          },
          "colorscale": {
           "diverging": [
            [
             0,
             "#8e0152"
            ],
            [
             0.1,
             "#c51b7d"
            ],
            [
             0.2,
             "#de77ae"
            ],
            [
             0.3,
             "#f1b6da"
            ],
            [
             0.4,
             "#fde0ef"
            ],
            [
             0.5,
             "#f7f7f7"
            ],
            [
             0.6,
             "#e6f5d0"
            ],
            [
             0.7,
             "#b8e186"
            ],
            [
             0.8,
             "#7fbc41"
            ],
            [
             0.9,
             "#4d9221"
            ],
            [
             1,
             "#276419"
            ]
           ],
           "sequential": [
            [
             0,
             "#0d0887"
            ],
            [
             0.1111111111111111,
             "#46039f"
            ],
            [
             0.2222222222222222,
             "#7201a8"
            ],
            [
             0.3333333333333333,
             "#9c179e"
            ],
            [
             0.4444444444444444,
             "#bd3786"
            ],
            [
             0.5555555555555556,
             "#d8576b"
            ],
            [
             0.6666666666666666,
             "#ed7953"
            ],
            [
             0.7777777777777778,
             "#fb9f3a"
            ],
            [
             0.8888888888888888,
             "#fdca26"
            ],
            [
             1,
             "#f0f921"
            ]
           ],
           "sequentialminus": [
            [
             0,
             "#0d0887"
            ],
            [
             0.1111111111111111,
             "#46039f"
            ],
            [
             0.2222222222222222,
             "#7201a8"
            ],
            [
             0.3333333333333333,
             "#9c179e"
            ],
            [
             0.4444444444444444,
             "#bd3786"
            ],
            [
             0.5555555555555556,
             "#d8576b"
            ],
            [
             0.6666666666666666,
             "#ed7953"
            ],
            [
             0.7777777777777778,
             "#fb9f3a"
            ],
            [
             0.8888888888888888,
             "#fdca26"
            ],
            [
             1,
             "#f0f921"
            ]
           ]
          },
          "colorway": [
           "#636efa",
           "#EF553B",
           "#00cc96",
           "#ab63fa",
           "#FFA15A",
           "#19d3f3",
           "#FF6692",
           "#B6E880",
           "#FF97FF",
           "#FECB52"
          ],
          "font": {
           "color": "#f2f5fa"
          },
          "geo": {
           "bgcolor": "rgb(17,17,17)",
           "lakecolor": "rgb(17,17,17)",
           "landcolor": "rgb(17,17,17)",
           "showlakes": true,
           "showland": true,
           "subunitcolor": "#506784"
          },
          "hoverlabel": {
           "align": "left"
          },
          "hovermode": "closest",
          "mapbox": {
           "style": "dark"
          },
          "paper_bgcolor": "rgb(17,17,17)",
          "plot_bgcolor": "rgb(17,17,17)",
          "polar": {
           "angularaxis": {
            "gridcolor": "#506784",
            "linecolor": "#506784",
            "ticks": ""
           },
           "bgcolor": "rgb(17,17,17)",
           "radialaxis": {
            "gridcolor": "#506784",
            "linecolor": "#506784",
            "ticks": ""
           }
          },
          "scene": {
           "xaxis": {
            "backgroundcolor": "rgb(17,17,17)",
            "gridcolor": "#506784",
            "gridwidth": 2,
            "linecolor": "#506784",
            "showbackground": true,
            "ticks": "",
            "zerolinecolor": "#C8D4E3"
           },
           "yaxis": {
            "backgroundcolor": "rgb(17,17,17)",
            "gridcolor": "#506784",
            "gridwidth": 2,
            "linecolor": "#506784",
            "showbackground": true,
            "ticks": "",
            "zerolinecolor": "#C8D4E3"
           },
           "zaxis": {
            "backgroundcolor": "rgb(17,17,17)",
            "gridcolor": "#506784",
            "gridwidth": 2,
            "linecolor": "#506784",
            "showbackground": true,
            "ticks": "",
            "zerolinecolor": "#C8D4E3"
           }
          },
          "shapedefaults": {
           "line": {
            "color": "#f2f5fa"
           }
          },
          "sliderdefaults": {
           "bgcolor": "#C8D4E3",
           "bordercolor": "rgb(17,17,17)",
           "borderwidth": 1,
           "tickwidth": 0
          },
          "ternary": {
           "aaxis": {
            "gridcolor": "#506784",
            "linecolor": "#506784",
            "ticks": ""
           },
           "baxis": {
            "gridcolor": "#506784",
            "linecolor": "#506784",
            "ticks": ""
           },
           "bgcolor": "rgb(17,17,17)",
           "caxis": {
            "gridcolor": "#506784",
            "linecolor": "#506784",
            "ticks": ""
           }
          },
          "title": {
           "x": 0.05
          },
          "updatemenudefaults": {
           "bgcolor": "#506784",
           "borderwidth": 0
          },
          "xaxis": {
           "automargin": true,
           "gridcolor": "#283442",
           "linecolor": "#506784",
           "ticks": "",
           "title": {
            "standoff": 15
           },
           "zerolinecolor": "#283442",
           "zerolinewidth": 2
          },
          "yaxis": {
           "automargin": true,
           "gridcolor": "#283442",
           "linecolor": "#506784",
           "ticks": "",
           "title": {
            "standoff": 15
           },
           "zerolinecolor": "#283442",
           "zerolinewidth": 2
          }
         }
        },
        "title": {
         "text": "1-3 Month U.S. Treasury Bill Yields vs. Federal Funds Rate (Last 5 Years)"
        },
        "xaxis": {
         "anchor": "y",
         "domain": [
          0,
          1
         ],
         "title": {
          "text": "Year"
         }
        },
        "yaxis": {
         "anchor": "x",
         "domain": [
          0,
          1
         ],
         "title": {
          "text": "Interest Rate (%)"
         }
        }
       }
      }
     },
     "metadata": {},
     "output_type": "display_data"
    }
   ],
   "source": [
    "import pandas as pd\n",
    "import plotly.express as px\n",
    "from fredapi import Fred\n",
    "import os\n",
    "from dotenv import load_dotenv\n",
    "\n",
    "load_dotenv()\n",
    "\n",
    "# Replace with your actual FRED API Key\n",
    "API_KEY = os.getenv('FRED_API_KEY')\n",
    "fred = Fred(api_key=API_KEY)\n",
    "\n",
    "# Fetch data from FRED\n",
    "start_date = \"2019-03-01\"  # Start 5 years ago\n",
    "end_date = \"2024-03-01\"    # End date\n",
    "\n",
    "# Get 3-Month Treasury Bill Yield (Secondary Market Rate)\n",
    "t_bill = fred.get_series(\"TB3MS\", start_date, end_date)\n",
    "\n",
    "# Get Federal Funds Rate\n",
    "fed_funds = fred.get_series(\"FEDFUNDS\", start_date, end_date)\n",
    "\n",
    "# Convert to DataFrame and resample monthly\n",
    "df = pd.DataFrame({\"Date\": t_bill.index, \"3M T-Bill Yield\": t_bill, \"Fed Funds Rate\": fed_funds})\n",
    "df = df.resample(\"M\", on=\"Date\").mean().reset_index()  # Ensure monthly data\n",
    "\n",
    "# Create interactive plot using Plotly\n",
    "fig = px.line(df, x=\"Date\", y=[\"3M T-Bill Yield\", \"Fed Funds Rate\"],\n",
    "              labels={\"value\": \"Interest Rate (%)\", \"variable\": \"Rate Type\"},\n",
    "              title=\"1-3 Month U.S. Treasury Bill Yields vs. Federal Funds Rate (Last 5 Years)\")\n",
    "\n",
    "# Customize layout\n",
    "fig.update_layout(xaxis_title=\"Year\", yaxis_title=\"Interest Rate (%)\", \n",
    "                  legend_title=\"Rate Type\", template=\"plotly_dark\")\n",
    "\n",
    "# Show plot\n",
    "fig.show()\n"
   ]
  }
 ],
 "metadata": {
  "kernelspec": {
   "display_name": ".venv",
   "language": "python",
   "name": "python3"
  },
  "language_info": {
   "codemirror_mode": {
    "name": "ipython",
    "version": 3
   },
   "file_extension": ".py",
   "mimetype": "text/x-python",
   "name": "python",
   "nbconvert_exporter": "python",
   "pygments_lexer": "ipython3",
   "version": "3.12.7"
  }
 },
 "nbformat": 4,
 "nbformat_minor": 2
}
